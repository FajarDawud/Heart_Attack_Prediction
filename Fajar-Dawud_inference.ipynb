{
 "cells": [
  {
   "cell_type": "code",
   "execution_count": 6,
   "metadata": {},
   "outputs": [],
   "source": [
    "# import libraries\n",
    "import pandas as pd\n",
    "import pickle"
   ]
  },
  {
   "cell_type": "code",
   "execution_count": 7,
   "metadata": {},
   "outputs": [],
   "source": [
    "with open('best_dt.pkl', 'rb') as model_file:\n",
    "    best_dt = pickle.load(model_file)"
   ]
  },
  {
   "cell_type": "code",
   "execution_count": 17,
   "metadata": {},
   "outputs": [
    {
     "data": {
      "text/html": [
       "<div>\n",
       "<style scoped>\n",
       "    .dataframe tbody tr th:only-of-type {\n",
       "        vertical-align: middle;\n",
       "    }\n",
       "\n",
       "    .dataframe tbody tr th {\n",
       "        vertical-align: top;\n",
       "    }\n",
       "\n",
       "    .dataframe thead th {\n",
       "        text-align: right;\n",
       "    }\n",
       "</style>\n",
       "<table border=\"1\" class=\"dataframe\">\n",
       "  <thead>\n",
       "    <tr style=\"text-align: right;\">\n",
       "      <th></th>\n",
       "      <th>Name</th>\n",
       "      <th>Age</th>\n",
       "      <th>Gender</th>\n",
       "      <th>Cholesterol</th>\n",
       "      <th>BloodPressure</th>\n",
       "      <th>HeartRate</th>\n",
       "      <th>BMI</th>\n",
       "      <th>Smoker</th>\n",
       "      <th>Diabetes</th>\n",
       "      <th>Hypertension</th>\n",
       "      <th>...</th>\n",
       "      <th>StressLevel</th>\n",
       "      <th>Medication</th>\n",
       "      <th>ChestPainType</th>\n",
       "      <th>ECGResults</th>\n",
       "      <th>MaxHeartRate</th>\n",
       "      <th>ST_Depression</th>\n",
       "      <th>ExerciseInducedAngina</th>\n",
       "      <th>NumberOfMajorVessels</th>\n",
       "      <th>PreviousHeartAttack</th>\n",
       "      <th>StrokeHistory</th>\n",
       "    </tr>\n",
       "  </thead>\n",
       "  <tbody>\n",
       "    <tr>\n",
       "      <th>0</th>\n",
       "      <td>SUSI</td>\n",
       "      <td>32</td>\n",
       "      <td>Male</td>\n",
       "      <td>240</td>\n",
       "      <td>134</td>\n",
       "      <td>100</td>\n",
       "      <td>25.0</td>\n",
       "      <td>1</td>\n",
       "      <td>1</td>\n",
       "      <td>0</td>\n",
       "      <td>...</td>\n",
       "      <td>6</td>\n",
       "      <td>No</td>\n",
       "      <td>Non-anginal</td>\n",
       "      <td>LV hypertrophy</td>\n",
       "      <td>177</td>\n",
       "      <td>4.45</td>\n",
       "      <td>Yes</td>\n",
       "      <td>2</td>\n",
       "      <td>0</td>\n",
       "      <td>0</td>\n",
       "    </tr>\n",
       "  </tbody>\n",
       "</table>\n",
       "<p>1 rows × 23 columns</p>\n",
       "</div>"
      ],
      "text/plain": [
       "   Name  Age Gender  Cholesterol  BloodPressure  HeartRate   BMI  Smoker  \\\n",
       "0  SUSI   32   Male          240            134        100  25.0       1   \n",
       "\n",
       "   Diabetes  Hypertension  ...  StressLevel  Medication ChestPainType  \\\n",
       "0         1             0  ...            6          No   Non-anginal   \n",
       "\n",
       "       ECGResults MaxHeartRate ST_Depression ExerciseInducedAngina  \\\n",
       "0  LV hypertrophy          177          4.45                   Yes   \n",
       "\n",
       "   NumberOfMajorVessels  PreviousHeartAttack StrokeHistory  \n",
       "0                     2                    0             0  \n",
       "\n",
       "[1 rows x 23 columns]"
      ]
     },
     "execution_count": 17,
     "metadata": {},
     "output_type": "execute_result"
    }
   ],
   "source": [
    "new_patient = {\n",
    "'Name' : 'SUSI',\n",
    "'Age' : 32, \n",
    "'Gender' : 'Male',\n",
    "'Cholesterol' : 240, \n",
    "'BloodPressure' : 134,\n",
    "'HeartRate' : 100,\n",
    "'BMI' : 25.0, \n",
    "'Smoker' : 1, \n",
    "'Diabetes' : 1, \n",
    "'Hypertension' : 0,\n",
    "'FamilyHistory' : 1, \n",
    "'AlcoholConsumption' : 3, # Ada level tingkatan 1-4\n",
    "'Diet' : 'Moderate', \n",
    "'StressLevel' : 6, # Ada tingkatan 1-9\n",
    "'Medication' : 'No', # Sedang menjalani pengobatan atau tidak\n",
    "'ChestPainType' : 'Non-anginal', # 'Typical', 'Atypical', 'Non-anginal', 'Asymptomatic'\n",
    "'ECGResults' : 'LV hypertrophy', #'ST-T abnormality', 'LV hypertrophy', 'Normal'\n",
    "'MaxHeartRate' : 177,\n",
    "'ST_Depression' : 4.45,\n",
    "'ExerciseInducedAngina': 'Yes',\n",
    "'NumberOfMajorVessels' : 2, # ada 0-3\n",
    "'PreviousHeartAttack' : 0,\n",
    "'StrokeHistory' : 0,\n",
    "}\n",
    "new_patient = pd.DataFrame([new_patient])\n",
    "new_patient"
   ]
  },
  {
   "cell_type": "code",
   "execution_count": 18,
   "metadata": {},
   "outputs": [
    {
     "data": {
      "text/plain": [
       "array([0], dtype=int64)"
      ]
     },
     "execution_count": 18,
     "metadata": {},
     "output_type": "execute_result"
    }
   ],
   "source": [
    "pred = best_dt.predict(new_patient)\n",
    "pred"
   ]
  },
  {
   "cell_type": "code",
   "execution_count": 24,
   "metadata": {},
   "outputs": [
    {
     "name": "stdout",
     "output_type": "stream",
     "text": [
      "Pasien bernama SUSI tidak mengalami serangan jantung.\n"
     ]
    }
   ],
   "source": [
    "if pred[0] == 0:\n",
    "    status = \"tidak mengalami serangan jantung\"\n",
    "else:\n",
    "    status = \"mengalami serangan jantung\"\n",
    "\n",
    "print(f\"Pasien bernama {new_patient['Name'].values[0]} {status}.\")"
   ]
  }
 ],
 "metadata": {
  "kernelspec": {
   "display_name": "base",
   "language": "python",
   "name": "python3"
  },
  "language_info": {
   "codemirror_mode": {
    "name": "ipython",
    "version": 3
   },
   "file_extension": ".py",
   "mimetype": "text/x-python",
   "name": "python",
   "nbconvert_exporter": "python",
   "pygments_lexer": "ipython3",
   "version": "3.12.7"
  }
 },
 "nbformat": 4,
 "nbformat_minor": 2
}
